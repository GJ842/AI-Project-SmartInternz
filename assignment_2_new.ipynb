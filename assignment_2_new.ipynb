{
  "nbformat": 4,
  "nbformat_minor": 0,
  "metadata": {
    "colab": {
      "provenance": []
    },
    "kernelspec": {
      "name": "python3",
      "display_name": "Python 3"
    },
    "language_info": {
      "name": "python"
    }
  },
  "cells": [
    {
      "cell_type": "code",
      "execution_count": null,
      "metadata": {
        "id": "I7SvLV1HXmvk"
      },
      "outputs": [],
      "source": [
        "from google.colab import drive"
      ]
    },
    {
      "cell_type": "code",
      "source": [
        "drive.mount('/content/drive')"
      ],
      "metadata": {
        "colab": {
          "base_uri": "https://localhost:8080/"
        },
        "id": "OT0aYY07XweI",
        "outputId": "486f2448-5e64-458d-cf0b-bcedffbc837a"
      },
      "execution_count": null,
      "outputs": [
        {
          "output_type": "stream",
          "name": "stdout",
          "text": [
            "Drive already mounted at /content/drive; to attempt to forcibly remount, call drive.mount(\"/content/drive\", force_remount=True).\n"
          ]
        }
      ]
    },
    {
      "cell_type": "markdown",
      "source": [
        "Task 1: Data Pre-processing\n",
        "\n",
        "First, we need to download the dataset from the provided link and import the necessary libraries. Here's an example of how you can read and preprocess the dataset using Python:"
      ],
      "metadata": {
        "id": "2h3EvnuQZGQz"
      }
    },
    {
      "cell_type": "code",
      "source": [
        "import pandas as pd\n",
        "import numpy as np\n",
        "from sklearn.model_selection import train_test_split\n",
        "from sklearn.preprocessing import StandardScaler"
      ],
      "metadata": {
        "id": "BcQ1BZY6ZDXt"
      },
      "execution_count": null,
      "outputs": []
    },
    {
      "cell_type": "code",
      "source": [
        "# Read the dataset\n",
        "data = pd.read_csv('/content/drive/MyDrive/SmartBridge AI Assignments/drug200.csv')\n"
      ],
      "metadata": {
        "id": "qI4syum3Zzwr"
      },
      "execution_count": null,
      "outputs": []
    },
    {
      "cell_type": "code",
      "source": [
        "# Check the data\n",
        "print(data.head())\n"
      ],
      "metadata": {
        "colab": {
          "base_uri": "https://localhost:8080/"
        },
        "id": "keidckDEZ3ng",
        "outputId": "88be07c3-a8ae-4437-c610-fa3a2ab39692"
      },
      "execution_count": null,
      "outputs": [
        {
          "output_type": "stream",
          "name": "stdout",
          "text": [
            "   Age Sex      BP Cholesterol  Na_to_K   Drug\n",
            "0   23   F    HIGH        HIGH   25.355  DrugY\n",
            "1   47   M     LOW        HIGH   13.093  drugC\n",
            "2   47   M     LOW        HIGH   10.114  drugC\n",
            "3   28   F  NORMAL        HIGH    7.798  drugX\n",
            "4   61   F     LOW        HIGH   18.043  DrugY\n"
          ]
        }
      ]
    },
    {
      "cell_type": "code",
      "source": [
        "# Perform data pre-processing\n",
        "# Convert categorical variables to numerical using one-hot encoding\n",
        "data = pd.get_dummies(data, columns=['Sex', 'BP', 'Cholesterol', 'Drug'])\n"
      ],
      "metadata": {
        "id": "ccxDiG-mZ7AU"
      },
      "execution_count": null,
      "outputs": []
    },
    {
      "cell_type": "code",
      "source": [
        "# Separate features and labels\n",
        "X = data.drop('Drug_DrugY', axis=1)\n",
        "y = data['Drug_DrugY']"
      ],
      "metadata": {
        "id": "YWCHYhgytdAn"
      },
      "execution_count": null,
      "outputs": []
    },
    {
      "cell_type": "code",
      "source": [
        "# Perform feature scaling\n",
        "scaler = StandardScaler()\n",
        "X_scaled = scaler.fit_transform(X)"
      ],
      "metadata": {
        "id": "Xyby0M9Ut2Ie"
      },
      "execution_count": null,
      "outputs": []
    },
    {
      "cell_type": "code",
      "source": [
        "# Split the dataset into training and testing sets\n",
        "X_train, X_test, y_train, y_test = train_test_split(X_scaled, y, test_size=0.2, random_state=42)\n"
      ],
      "metadata": {
        "id": "_aa2uAxruIsD"
      },
      "execution_count": null,
      "outputs": []
    },
    {
      "cell_type": "code",
      "source": [
        "# Print the shapes of the datasets\n",
        "print(\"Shape of X_train:\", X_train.shape)\n",
        "print(\"Shape of X_test:\", X_test.shape)\n",
        "print(\"Shape of y_train:\", y_train.shape)\n",
        "print(\"Shape of y_test:\", y_test.shape)"
      ],
      "metadata": {
        "colab": {
          "base_uri": "https://localhost:8080/"
        },
        "id": "ew-visWguOm8",
        "outputId": "65e45cf2-8533-4798-eb09-f8f3a8f38dfb"
      },
      "execution_count": null,
      "outputs": [
        {
          "output_type": "stream",
          "name": "stdout",
          "text": [
            "Shape of X_train: (160, 13)\n",
            "Shape of X_test: (40, 13)\n",
            "Shape of y_train: (160,)\n",
            "Shape of y_test: (40,)\n"
          ]
        }
      ]
    },
    {
      "cell_type": "markdown",
      "source": [
        "Task 2: Build the ANN Model\n",
        "\n",
        "To build an Artificial Neural Network (ANN) model with at least three hidden layers, we'll use the Keras library, which is a high-level neural networks API. Here's an example of how to construct the model:"
      ],
      "metadata": {
        "id": "MiEXZoOOacQw"
      }
    },
    {
      "cell_type": "code",
      "source": [
        "from tensorflow.keras.models import Sequential\n",
        "from tensorflow.keras.layers import Dense\n"
      ],
      "metadata": {
        "id": "fr-Q95QIaLnQ"
      },
      "execution_count": null,
      "outputs": []
    },
    {
      "cell_type": "code",
      "source": [
        "# Define the model architecture\n",
        "model = Sequential()\n",
        "model.add(Dense(64, activation='relu', input_shape=(X.shape[1],)))  # Input layer\n",
        "model.add(Dense(128, activation='relu'))  # Hidden layer 1\n",
        "model.add(Dense(64, activation='relu'))  # Hidden layer 2\n",
        "model.add(Dense(32, activation='relu'))  # Hidden layer 3\n",
        "model.add(Dense(1, activation='sigmoid'))  # Output layer"
      ],
      "metadata": {
        "id": "a62RQ_HKahEm"
      },
      "execution_count": null,
      "outputs": []
    },
    {
      "cell_type": "code",
      "source": [
        "\n",
        "# Compile the model\n",
        "model.compile(optimizer='adam', loss='binary_crossentropy', metrics=['accuracy'])"
      ],
      "metadata": {
        "id": "fQPGdqW9ajen"
      },
      "execution_count": null,
      "outputs": []
    },
    {
      "cell_type": "code",
      "source": [
        "# Train the model\n",
        "model.fit(X, y, epochs=10, batch_size=32, validation_split=0.2)"
      ],
      "metadata": {
        "colab": {
          "base_uri": "https://localhost:8080/"
        },
        "id": "mwTj8oGSbJ4Z",
        "outputId": "b0802dd8-af0a-4f24-db41-dc96a37633ff"
      },
      "execution_count": null,
      "outputs": [
        {
          "output_type": "stream",
          "name": "stdout",
          "text": [
            "Epoch 1/10\n",
            "5/5 [==============================] - 2s 81ms/step - loss: 0.9704 - accuracy: 0.3500 - val_loss: 0.6705 - val_accuracy: 0.6500\n",
            "Epoch 2/10\n",
            "5/5 [==============================] - 0s 15ms/step - loss: 0.6122 - accuracy: 0.7125 - val_loss: 0.6040 - val_accuracy: 0.5750\n",
            "Epoch 3/10\n",
            "5/5 [==============================] - 0s 14ms/step - loss: 0.5303 - accuracy: 0.7688 - val_loss: 0.5402 - val_accuracy: 0.7500\n",
            "Epoch 4/10\n",
            "5/5 [==============================] - 0s 18ms/step - loss: 0.4627 - accuracy: 0.7750 - val_loss: 0.5613 - val_accuracy: 0.7500\n",
            "Epoch 5/10\n",
            "5/5 [==============================] - 0s 14ms/step - loss: 0.4407 - accuracy: 0.7812 - val_loss: 0.5393 - val_accuracy: 0.7000\n",
            "Epoch 6/10\n",
            "5/5 [==============================] - 0s 17ms/step - loss: 0.4418 - accuracy: 0.7437 - val_loss: 0.5836 - val_accuracy: 0.7500\n",
            "Epoch 7/10\n",
            "5/5 [==============================] - 0s 15ms/step - loss: 0.4090 - accuracy: 0.8188 - val_loss: 0.5172 - val_accuracy: 0.7000\n",
            "Epoch 8/10\n",
            "5/5 [==============================] - 0s 14ms/step - loss: 0.4094 - accuracy: 0.7750 - val_loss: 0.5111 - val_accuracy: 0.7750\n",
            "Epoch 9/10\n",
            "5/5 [==============================] - 0s 17ms/step - loss: 0.4395 - accuracy: 0.7750 - val_loss: 0.4921 - val_accuracy: 0.7500\n",
            "Epoch 10/10\n",
            "5/5 [==============================] - 0s 18ms/step - loss: 0.4110 - accuracy: 0.7875 - val_loss: 0.4962 - val_accuracy: 0.8000\n"
          ]
        },
        {
          "output_type": "execute_result",
          "data": {
            "text/plain": [
              "<keras.callbacks.History at 0x7fa0211d2560>"
            ]
          },
          "metadata": {},
          "execution_count": 18
        }
      ]
    },
    {
      "cell_type": "code",
      "source": [
        "model.summary()"
      ],
      "metadata": {
        "id": "RTliavvs4tg6",
        "outputId": "0706cf3d-4990-4fd0-a247-9b230bf8ea6c",
        "colab": {
          "base_uri": "https://localhost:8080/"
        }
      },
      "execution_count": null,
      "outputs": [
        {
          "output_type": "stream",
          "name": "stdout",
          "text": [
            "Model: \"sequential\"\n",
            "_________________________________________________________________\n",
            " Layer (type)                Output Shape              Param #   \n",
            "=================================================================\n",
            " dense (Dense)               (None, 64)                896       \n",
            "                                                                 \n",
            " dense_1 (Dense)             (None, 128)               8320      \n",
            "                                                                 \n",
            " dense_2 (Dense)             (None, 64)                8256      \n",
            "                                                                 \n",
            " dense_3 (Dense)             (None, 32)                2080      \n",
            "                                                                 \n",
            " dense_4 (Dense)             (None, 1)                 33        \n",
            "                                                                 \n",
            "=================================================================\n",
            "Total params: 19,585\n",
            "Trainable params: 19,585\n",
            "Non-trainable params: 0\n",
            "_________________________________________________________________\n"
          ]
        }
      ]
    },
    {
      "cell_type": "markdown",
      "source": [
        "Task 3: Test the Model with Random Data\n",
        "\n",
        "To test the model with random data, you can generate a random sample of features and pass it to the trained model for prediction. Here's an example:"
      ],
      "metadata": {
        "id": "1ejJwcXRbZmp"
      }
    },
    {
      "cell_type": "code",
      "source": [
        "# Generate random test data\n",
        "random_data = np.random.randn(1, X.shape[1])"
      ],
      "metadata": {
        "id": "QW-U9cr0bWBk"
      },
      "execution_count": null,
      "outputs": []
    },
    {
      "cell_type": "code",
      "source": [
        "# Generate random test data\n",
        "random_data = np.random.randn(1, X.shape[1])\n",
        "random_data[0, 0] = (random_data[0, 0] - data['Age'].mean()) / data['Age'].std()\n",
        "random_data[0, 4] = (random_data[0, 4] - data['Na_to_K'].mean()) / data['Na_to_K'].std()\n"
      ],
      "metadata": {
        "id": "wCzvdfxmbh6X"
      },
      "execution_count": null,
      "outputs": []
    },
    {
      "cell_type": "code",
      "source": [
        "# Predict the class/category for the random data\n",
        "prediction = model.predict(random_data)\n",
        "class_label = 'Drug_DrugY' if prediction > 0.5 else 'Not Drug_DrugY'"
      ],
      "metadata": {
        "colab": {
          "base_uri": "https://localhost:8080/"
        },
        "id": "TlQNEhoXb1bc",
        "outputId": "e9674a85-3746-46b7-fcac-f06b47c85219"
      },
      "execution_count": null,
      "outputs": [
        {
          "output_type": "stream",
          "name": "stdout",
          "text": [
            "1/1 [==============================] - 0s 129ms/step\n"
          ]
        }
      ]
    },
    {
      "cell_type": "code",
      "source": [
        "# Print the prediction result\n",
        "print(\"Random Data:\")\n",
        "print(random_data)\n",
        "print(\"Prediction Result:\")\n",
        "print(\"Class Label:\", class_label)\n",
        "print(\"Prediction Probability:\", prediction)"
      ],
      "metadata": {
        "colab": {
          "base_uri": "https://localhost:8080/"
        },
        "id": "0IHP6Ukpb6RJ",
        "outputId": "1bb4646e-54b5-40e4-a0db-a1692673e72f"
      },
      "execution_count": null,
      "outputs": [
        {
          "output_type": "stream",
          "name": "stdout",
          "text": [
            "Random Data:\n",
            "[[-2.66281051 -2.00041453  0.56043714  0.54449071 -2.18978644 -0.18181483\n",
            "  -0.7914297   1.71868258 -0.21816011  0.850435   -0.52668971  0.42703014\n",
            "  -0.70880245]]\n",
            "Prediction Result:\n",
            "Class Label: Not Drug_DrugY\n",
            "Prediction Probability: [[0.44332173]]\n"
          ]
        }
      ]
    }
  ]
}